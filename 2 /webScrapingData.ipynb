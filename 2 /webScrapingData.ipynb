{
  "nbformat": 4,
  "nbformat_minor": 0,
  "metadata": {
    "colab": {
      "provenance": [],
      "include_colab_link": true
    },
    "kernelspec": {
      "name": "python3",
      "display_name": "Python 3"
    },
    "language_info": {
      "name": "python"
    }
  },
  "cells": [
    {
      "cell_type": "markdown",
      "metadata": {
        "id": "view-in-github",
        "colab_type": "text"
      },
      "source": [
        "<a href=\"https://colab.research.google.com/github/armijos-jairo/UCE-WebScraping-DM/blob/main/2%20/webScrapingData.ipynb\" target=\"_parent\"><img src=\"https://colab.research.google.com/assets/colab-badge.svg\" alt=\"Open In Colab\"/></a>"
      ]
    },
    {
      "cell_type": "markdown",
      "source": [
        "# **EXTRACCIÓN DE DATOS**\n",
        "*   **Autor:** \"Jairo Armijos\"\n",
        "*   **Fecha:** \"19/12/2023\"\n",
        "*   **Título:** \"Extracción de datos de la Web (Scrapy)\"\n",
        "*   **Tema:** \"Clasificación de desempeño de artículos científicos para universidades del mundo\""
      ],
      "metadata": {
        "id": "m9VjYt-SFPWD"
      }
    },
    {
      "cell_type": "markdown",
      "source": [
        "# **1. Pre Requisitos**\n"
      ],
      "metadata": {
        "id": "IcHY6-ppAadg"
      }
    },
    {
      "cell_type": "code",
      "execution_count": null,
      "metadata": {
        "id": "rHXhBVU57HaV"
      },
      "outputs": [],
      "source": [
        "# Instalación de las librerias o dependencias necesarias\n",
        "!pip install beautifulsoup4 requests pandas"
      ]
    },
    {
      "cell_type": "code",
      "source": [
        "# Dependencias de carga\n",
        "import json # Modulo para trabajar con archivos JSON\n",
        "import requests # Libreria para hacer peticiones HTTP\n",
        "import pandas as pd # Libreria para procesar datos, proporciona funciones para analíticas\n",
        "from bs4 import BeautifulSoup as bs # Extraer información de paginas web"
      ],
      "metadata": {
        "id": "hEqOH9GZ7RH0"
      },
      "execution_count": 10,
      "outputs": []
    },
    {
      "cell_type": "markdown",
      "source": [
        "# **2. Funciones para procesamiento de los datos**"
      ],
      "metadata": {
        "id": "XfyR5ii5BvMU"
      }
    },
    {
      "cell_type": "code",
      "source": [
        "# Función que convierte una lista de elementos en un dataframe de pandas\n",
        "def rowsToDataFrame(rows):\n",
        "    df = pd.DataFrame(rows[1:], columns=rows[0])\n",
        "    return df"
      ],
      "metadata": {
        "id": "Z-8gEBJ27VTB"
      },
      "execution_count": 11,
      "outputs": []
    },
    {
      "cell_type": "code",
      "source": [
        "# Función para extraer los datos de una tabla HTML\n",
        "def processTableData(tbl):\n",
        "    rows = []\n",
        "    for child in tbl.find('tbody').children: # Itera los items internos de la tabla [<tr>]\n",
        "        row = []\n",
        "        for td in child: # Itera los items internos de la tabla [<td>]\n",
        "            try:\n",
        "                item = td.text.replace('\\n', '') # Recupera el texto del elemento [<td>]\n",
        "                if item:\n",
        "                    row.append(item) # Agrega cada elemento de la fila\n",
        "            except:\n",
        "                continue\n",
        "        if len(row) > 0:\n",
        "            rows.append(row) # Agrega todos los campos de una fila de la tabla\n",
        "    # print(rows)\n",
        "    return rows"
      ],
      "metadata": {
        "id": "tqWxx32P7Yay"
      },
      "execution_count": 12,
      "outputs": []
    },
    {
      "cell_type": "code",
      "source": [
        "# Función para extraer la data de la URL y procesar el contenido HTML\n",
        "def processDataHTML(data):\n",
        "    soup = bs(data['sections'][1]['text'], 'html.parser') # Recupera el item del JSON y lo convierte en contenido HTML\n",
        "    tbl = soup.find_all('table')[0] # Recupera la tabla del contenido HTML\n",
        "    # print(tbl.prettify())\n",
        "    tblRows = processTableData(tbl) # Ejecuta la función para procesar el contenido de la Tabla\n",
        "    return tblRows"
      ],
      "metadata": {
        "id": "is9J04c57c4y"
      },
      "execution_count": 6,
      "outputs": []
    },
    {
      "cell_type": "markdown",
      "source": [
        "# **3. Extracción de Información**"
      ],
      "metadata": {
        "id": "6-d7vJ9mDI-b"
      }
    },
    {
      "cell_type": "code",
      "source": [
        "# Leer sitio web\n",
        "r = requests.get('https://www.wikiwand.com/mcs-api/en.wikipedia.org/v1/page/mobile-sections-remaining/Performance_Ranking_of_Scientific_Papers_for_World_Universities')  # Recuperamos el contenido de la web\n",
        "# print(r)\n",
        "table = processDataHTML(json.loads(r.content)) # Formate el contenido en formato JSON\n",
        "df = rowsToDataFrame(table) # Ejecuta la funcion para recupera los datos de la tabla como dataframe de Pandas\n",
        "df"
      ],
      "metadata": {
        "id": "k5IpDhwH7f96"
      },
      "execution_count": null,
      "outputs": []
    },
    {
      "cell_type": "code",
      "source": [
        "# Inspeccionamos el tipo de dato de cada variable\n",
        "df.info()"
      ],
      "metadata": {
        "colab": {
          "base_uri": "https://localhost:8080/"
        },
        "id": "zeuX-XUVC7LZ",
        "outputId": "f1ca11fd-5009-4309-daa3-59ff50989dc1"
      },
      "execution_count": 13,
      "outputs": [
        {
          "output_type": "stream",
          "name": "stdout",
          "text": [
            "<class 'pandas.core.frame.DataFrame'>\n",
            "RangeIndex: 50 entries, 0 to 49\n",
            "Data columns (total 6 columns):\n",
            " #   Column       Non-Null Count  Dtype \n",
            "---  ------       --------------  ----- \n",
            " 0   2010         50 non-null     object\n",
            " 1   2009         50 non-null     object\n",
            " 2   2008         50 non-null     object\n",
            " 3   2007         50 non-null     object\n",
            " 4   Institution  50 non-null     object\n",
            " 5   Country      50 non-null     object\n",
            "dtypes: object(6)\n",
            "memory usage: 2.5+ KB\n"
          ]
        }
      ]
    },
    {
      "cell_type": "markdown",
      "source": [
        "# **4. Almacenamiento de los datos**"
      ],
      "metadata": {
        "id": "rZJUMr92DzPh"
      }
    },
    {
      "cell_type": "code",
      "source": [
        "# Guardamos las datos extraidos como archivo CSV\n",
        "df.to_csv('rankingScientificPapers.csv')"
      ],
      "metadata": {
        "id": "LJKFQIWmD17S"
      },
      "execution_count": 9,
      "outputs": []
    },
    {
      "cell_type": "markdown",
      "source": [
        "# **5. Referencia**\n",
        "\n",
        "*   [Ranking basado en campos](https://www.wikiwand.com/en/Performance_Ranking_of_Scientific_Papers_for_World_Universities)\n",
        "\n"
      ],
      "metadata": {
        "id": "VbCKdGS8c6-Z"
      }
    }
  ]
}