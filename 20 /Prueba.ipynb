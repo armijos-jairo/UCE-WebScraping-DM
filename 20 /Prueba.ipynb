{
  "nbformat": 4,
  "nbformat_minor": 0,
  "metadata": {
    "colab": {
      "provenance": [],
      "authorship_tag": "ABX9TyPUMCBmYjY8RKK5mL3m30Hx",
      "include_colab_link": true
    },
    "kernelspec": {
      "name": "python3",
      "display_name": "Python 3"
    },
    "language_info": {
      "name": "python"
    }
  },
  "cells": [
    {
      "cell_type": "markdown",
      "metadata": {
        "id": "view-in-github",
        "colab_type": "text"
      },
      "source": [
        "<a href=\"https://colab.research.google.com/github/armijos-jairo/UCE-WebScraping-DM/blob/main/20%20/Prueba.ipynb\" target=\"_parent\"><img src=\"https://colab.research.google.com/assets/colab-badge.svg\" alt=\"Open In Colab\"/></a>"
      ]
    },
    {
      "cell_type": "markdown",
      "source": [
        "EXTRACCIÓN DE DATOS\n",
        "Autor: \"Jairo Armijos\"\n",
        "Fecha: \"19/12/2023\"\n",
        "Título: \"Extracción de datos de la Web (Scrapy)\"\n",
        "Tema: \"Clasificación de desempeño de artículos científicos para universidades del mundo\""
      ],
      "metadata": {
        "id": "pgN5Mq2AMm_m"
      }
    },
    {
      "cell_type": "code",
      "execution_count": 9,
      "metadata": {
        "id": "yg6KLXBAMibZ"
      },
      "outputs": [],
      "source": [
        "from typing import no_type_check_decorator\n",
        "# Función para extraer los datos de una tabla HTML\n",
        "def processTableData(tbl):\n",
        "    rows = []\n",
        "    for child in tbl.find('tbody').children: # Itera los items internos de la tabla [<tr>]\n",
        "        row = []\n",
        "        for td in child: # Itera los items internos de la tabla [<td>]\n",
        "            try:\n",
        "                item = td.text.replace('\\n', '') # Recupera el texto del elemento [<td>]\n",
        "                if item:\n",
        "                    row.append(item) # Agrega cada elemento de la fila\n",
        "            except:\n",
        "               continue\n",
        "        if len(row) > 0:\n",
        "            rows.append(row) # Agrega todos los campos de una fila de la tabla\n",
        "    # print(rows)\n",
        "    # return rows"
      ]
    }
  ]
}